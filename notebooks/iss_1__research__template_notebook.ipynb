{
 "cells": [
  {
   "cell_type": "markdown",
   "id": "7727da0e",
   "metadata": {},
   "source": [
    "# About\n",
    "* **Author**: Adil Rashitov (adil@wastelabs.co)\n",
    "* **Created at**: 25.03.2022\n",
    "* **Issue**: https://github.com/AtmosOne/dev_template_repo/issues/1\n"
   ]
  },
  {
   "cell_type": "code",
   "execution_count": 1,
   "id": "29ce2f33",
   "metadata": {},
   "outputs": [
    {
     "name": "stdout",
     "output_type": "stream",
     "text": [
      "2022-04-03 21:33:08,923 - root - INFO - No path argument was provided. Using: /home/atmosphere/Projects/projects_templates\n",
      "2022-04-03 21:33:09,036 - kedro.framework.session.store - INFO - `read()` not implemented for `BaseSessionStore`. Assuming empty store.\n",
      "2022-04-03 21:33:09,076 - root - INFO - ** Kedro project pipelines\n",
      "2022-04-03 21:33:09,076 - root - INFO - Defined global variable `context`, `session`, `catalog` and `pipelines`\n"
     ]
    }
   ],
   "source": [
    "%reload_kedro"
   ]
  },
  {
   "cell_type": "code",
   "execution_count": 1,
   "id": "0d4c7bdb",
   "metadata": {
    "code_folding": [
     0
    ],
    "collapsed": true
   },
   "outputs": [
    {
     "name": "stderr",
     "output_type": "stream",
     "text": [
      "/tmp/ipykernel_58716/2070772150.py:30: DeprecationWarning: Importing display from IPython.core.display is deprecated since IPython 7.14, please import from IPython display\n",
      "  from IPython.core.display import display, HTML\n"
     ]
    },
    {
     "data": {
      "text/html": [
       "<style>.container { width:100% !important; }</style>"
      ],
      "text/plain": [
       "<IPython.core.display.HTML object>"
      ]
     },
     "metadata": {},
     "output_type": "display_data"
    },
    {
     "name": "stderr",
     "output_type": "stream",
     "text": [
      "/home/atmosphere/miniconda3/envs/py3_10_1/lib/python3.10/site-packages/geopandas/_compat.py:18: DeprecationWarning: distutils Version classes are deprecated. Use packaging.version instead.\n",
      "  PANDAS_GE_10 = str(pd.__version__) >= LooseVersion(\"1.0.0\")\n",
      "/home/atmosphere/miniconda3/envs/py3_10_1/lib/python3.10/site-packages/setuptools/_distutils/version.py:351: DeprecationWarning: distutils Version classes are deprecated. Use packaging.version instead.\n",
      "  other = LooseVersion(other)\n",
      "/home/atmosphere/miniconda3/envs/py3_10_1/lib/python3.10/site-packages/geopandas/_compat.py:19: DeprecationWarning: distutils Version classes are deprecated. Use packaging.version instead.\n",
      "  PANDAS_GE_11 = str(pd.__version__) >= LooseVersion(\"1.1.0\")\n",
      "/home/atmosphere/miniconda3/envs/py3_10_1/lib/python3.10/site-packages/geopandas/_compat.py:20: DeprecationWarning: distutils Version classes are deprecated. Use packaging.version instead.\n",
      "  PANDAS_GE_115 = str(pd.__version__) >= LooseVersion(\"1.1.5\")\n",
      "/home/atmosphere/miniconda3/envs/py3_10_1/lib/python3.10/site-packages/geopandas/_compat.py:21: DeprecationWarning: distutils Version classes are deprecated. Use packaging.version instead.\n",
      "  PANDAS_GE_12 = str(pd.__version__) >= LooseVersion(\"1.2.0\")\n",
      "/home/atmosphere/miniconda3/envs/py3_10_1/lib/python3.10/site-packages/geopandas/_compat.py:29: DeprecationWarning: distutils Version classes are deprecated. Use packaging.version instead.\n",
      "  SHAPELY_GE_17 = str(shapely.__version__) >= LooseVersion(\"1.7.0\")\n",
      "/home/atmosphere/miniconda3/envs/py3_10_1/lib/python3.10/site-packages/geopandas/_compat.py:30: DeprecationWarning: distutils Version classes are deprecated. Use packaging.version instead.\n",
      "  SHAPELY_GE_18 = str(shapely.__version__) >= LooseVersion(\"1.8\")\n",
      "/home/atmosphere/miniconda3/envs/py3_10_1/lib/python3.10/site-packages/geopandas/_compat.py:31: DeprecationWarning: distutils Version classes are deprecated. Use packaging.version instead.\n",
      "  SHAPELY_GE_20 = str(shapely.__version__) >= LooseVersion(\"2.0\")\n",
      "/home/atmosphere/miniconda3/envs/py3_10_1/lib/python3.10/site-packages/geopandas/_compat.py:227: DeprecationWarning: distutils Version classes are deprecated. Use packaging.version instead.\n",
      "  PYPROJ_LT_3 = LooseVersion(pyproj.__version__) < LooseVersion(\"3\")\n",
      "/home/atmosphere/miniconda3/envs/py3_10_1/lib/python3.10/site-packages/geopandas/_compat.py:228: DeprecationWarning: distutils Version classes are deprecated. Use packaging.version instead.\n",
      "  PYPROJ_GE_31 = LooseVersion(pyproj.__version__) >= LooseVersion(\"3.1\")\n"
     ]
    }
   ],
   "source": [
    "# Imports / Configs / Global vars\n",
    "\n",
    "# Import of native python tools\n",
    "import os\n",
    "import json\n",
    "from functools import reduce\n",
    "\n",
    "# Import of base ML stack libs\n",
    "import numpy as np\n",
    "import sklearn as sc\n",
    "\n",
    "# Multiprocessing for Mac / Linux\n",
    "import platform\n",
    "platform.system()\n",
    "if platform.system() == 'Darwin':\n",
    "    from multiprocess import Pool\n",
    "else:\n",
    "    from multiprocessing import Pool\n",
    "\n",
    "# Visualization libraries\n",
    "import plotly.express as px\n",
    "\n",
    "# Logging configuraiton\n",
    "import logging\n",
    "logging.basicConfig(format='[ %(asctime)s ][ %(levelname)s ]: %(message)s', datefmt='%m/%d/%Y %I:%M:%S %p')\n",
    "logger = logging.getLogger()\n",
    "logger.setLevel(logging.INFO)\n",
    "\n",
    "# Ipython configs\n",
    "from IPython.core.display import display, HTML\n",
    "from IPython.core.interactiveshell import InteractiveShell\n",
    "display(HTML(\"<style>.container { width:100% !important; }</style>\"))\n",
    "InteractiveShell.ast_node_interactivity = 'all'\n",
    "\n",
    "# Pandas configs\n",
    "import pandas as pd\n",
    "import geopandas as gpd\n",
    "pd.options.display.max_rows = 350\n",
    "pd.options.display.max_columns = 250\n",
    "\n",
    "# Jupyter configs\n",
    "%load_ext autoreload\n",
    "%autoreload 2\n",
    "%config Completer.use_jedi = False\n",
    "\n",
    "# GLOBAL VARS\n",
    "from pathlib import Path\n",
    "import sys"
   ]
  },
  {
   "cell_type": "markdown",
   "id": "1fef11bd",
   "metadata": {},
   "source": [
    "# Context management\n",
    "* Kedro\n",
    "* Data"
   ]
  },
  {
   "cell_type": "code",
   "execution_count": 8,
   "id": "91121358",
   "metadata": {},
   "outputs": [
    {
     "name": "stdout",
     "output_type": "stream",
     "text": [
      "2022-04-03 21:31:16,044 - kedro.framework.session.store - INFO - `read()` not implemented for `BaseSessionStore`. Assuming empty store.\n",
      "2022-04-03 21:31:16,164 - kedro.framework.session.store - INFO - `read()` not implemented for `BaseSessionStore`. Assuming empty store.\n",
      "2022-04-03 21:31:16,286 - kedro.framework.session.store - INFO - `read()` not implemented for `BaseSessionStore`. Assuming empty store.\n",
      "2022-04-03 21:31:16,407 - kedro.framework.session.store - INFO - `read()` not implemented for `BaseSessionStore`. Assuming empty store.\n"
     ]
    }
   ],
   "source": [
    "import context"
   ]
  },
  {
   "cell_type": "code",
   "execution_count": 13,
   "id": "194021b6",
   "metadata": {},
   "outputs": [],
   "source": [
    "_ = context.dev.catalog.list()\n",
    "_ = context.test.catalog.list()\n",
    "_ = context.ua_test.catalog.list()\n",
    "_ = context.prod.catalog.list()"
   ]
  },
  {
   "cell_type": "markdown",
   "id": "ef932022",
   "metadata": {},
   "source": [
    "# Main\n",
    "Main code goes below"
   ]
  },
  {
   "cell_type": "markdown",
   "id": "e394be6d",
   "metadata": {},
   "source": [
    "# Summary"
   ]
  }
 ],
 "metadata": {
  "kernelspec": {
   "display_name": "Kedro (pipelines)",
   "language": "python",
   "name": "kedro_pipelines"
  },
  "language_info": {
   "codemirror_mode": {
    "name": "ipython",
    "version": 3
   },
   "file_extension": ".py",
   "mimetype": "text/x-python",
   "name": "python",
   "nbconvert_exporter": "python",
   "pygments_lexer": "ipython3",
   "version": "3.10.4"
  },
  "varInspector": {
   "cols": {
    "lenName": 16,
    "lenType": 16,
    "lenVar": 40
   },
   "kernels_config": {
    "python": {
     "delete_cmd_postfix": "",
     "delete_cmd_prefix": "del ",
     "library": "var_list.py",
     "varRefreshCmd": "print(var_dic_list())"
    },
    "r": {
     "delete_cmd_postfix": ") ",
     "delete_cmd_prefix": "rm(",
     "library": "var_list.r",
     "varRefreshCmd": "cat(var_dic_list()) "
    }
   },
   "types_to_exclude": [
    "module",
    "function",
    "builtin_function_or_method",
    "instance",
    "_Feature"
   ],
   "window_display": false
  }
 },
 "nbformat": 4,
 "nbformat_minor": 5
}
